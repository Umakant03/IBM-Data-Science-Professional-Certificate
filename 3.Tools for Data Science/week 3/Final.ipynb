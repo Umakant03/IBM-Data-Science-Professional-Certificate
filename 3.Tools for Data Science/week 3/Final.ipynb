{
 "cells": [
  {
   "cell_type": "markdown",
   "metadata": {},
   "source": [
    "<h1>My Jupyter Notebook on IBM Data Science Experience</h1>"
   ]
  },
  {
   "cell_type": "markdown",
   "metadata": {},
   "source": [
    "<b>Falansh Siddh</b>"
   ]
  },
  {
   "cell_type": "markdown",
   "metadata": {},
   "source": [
    "Data Scientist"
   ]
  },
  {
   "cell_type": "markdown",
   "metadata": {},
   "source": [
    "<i>From the starting days of my high school I started to develop a keen interest towards Data Science with Finance as my Domain. That is why I want to become a Data Scientist.</i>"
   ]
  },
  {
   "cell_type": "markdown",
   "metadata": {},
   "source": [
    "<h3>Calculate the sum of 1 plus 1</h3>"
   ]
  },
  {
   "cell_type": "code",
   "execution_count": 2,
   "metadata": {},
   "outputs": [
    {
     "data": {
      "text/plain": [
       "3"
      ]
     },
     "execution_count": 2,
     "metadata": {},
     "output_type": "execute_result"
    }
   ],
   "source": [
    "1+1+1"
   ]
  },
  {
   "cell_type": "markdown",
   "metadata": {},
   "source": [
    "<hr><blockquote> <i>\"I will become a great Data Scientist!\"</i> -Falansh Siddh </blockquote></hr>\n"
   ]
  },
  {
   "cell_type": "markdown",
   "metadata": {},
   "source": [
    "<u>Ordered List</u>\n",
    "<ol>\n",
    "<li>D</li>\n",
    "<li>A</li>\n",
    "<li>T</li>\n",
    "<li>A</li>\n",
    "</ol>"
   ]
  },
  {
   "cell_type": "markdown",
   "metadata": {},
   "source": [
    "<h4><a href=\"https://www.google.com\" > Link to Google</a></h4>"
   ]
  },
  {
   "cell_type": "markdown",
   "metadata": {},
   "source": [
    "<br>\n",
    "<table style=\"width:20%\" align=\"left\">\n",
    "    \n",
    "<tr>\n",
    "<th>Student</th>\n",
    "<th>Grade</th>\n",
    "</tr>\n",
    "\n",
    "<tr>\n",
    "<td>John Smith</td>\n",
    "<td>90</td>\n",
    "</tr>\n",
    "\n",
    "<tr>\n",
    "<td>Jane Doe</td>\n",
    "<td>95</td>\n",
    "</tr>\n",
    "    \n",
    "</table>"
   ]
  }
 ],
 "metadata": {
  "kernelspec": {
   "display_name": "Python",
   "language": "python",
   "name": "conda-env-python-py"
  },
  "language_info": {
   "codemirror_mode": {
    "name": "ipython",
    "version": 3
   },
   "file_extension": ".py",
   "mimetype": "text/x-python",
   "name": "python",
   "nbconvert_exporter": "python",
   "pygments_lexer": "ipython3",
   "version": "3.6.7"
  }
 },
 "nbformat": 4,
 "nbformat_minor": 4
}
